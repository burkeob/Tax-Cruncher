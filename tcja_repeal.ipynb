{
 "cells": [
  {
   "cell_type": "code",
   "execution_count": 1,
   "metadata": {},
   "outputs": [],
   "source": [
    "import pandas as pd\n",
    "import os\n",
    "from taxcrunch.multi_cruncher import Batch"
   ]
  },
  {
   "cell_type": "code",
   "execution_count": 2,
   "metadata": {},
   "outputs": [],
   "source": [
    "taxsim_in = pd.read_csv(os.path.join(os.path.dirname('file'), 'taxsim32_input.csv'))\n",
    "taxsim_out = pd.read_csv(os.path.join(os.path.dirname('file'), 'taxsim32_output.csv'))"
   ]
  },
  {
   "cell_type": "code",
   "execution_count": 3,
   "metadata": {},
   "outputs": [],
   "source": [
    "taxsim_in['otheritem'] = taxsim_out['siitax']\n",
    "drop = ['state', 'transfers', 'rentpaid', 'scorp', 'pbusinc', 'pprofinc', 'sbusinc', 'sprofinc']\n",
    "cruncher_in = taxsim_in.drop(labels=drop, axis=1)\n",
    "cruncher_in.to_csv('cruncher_input.csv', header=False, index=False)"
   ]
  },
  {
   "cell_type": "code",
   "execution_count": 4,
   "metadata": {},
   "outputs": [],
   "source": [
    "b = Batch('../cruncher_input.csv')"
   ]
  },
  {
   "cell_type": "code",
   "execution_count": 5,
   "metadata": {},
   "outputs": [
    {
     "name": "stdout",
     "output_type": "stream",
     "text": [
      "CTC_c was redefined in release 1.0.0\n",
      "\n",
      "CTC_c was redefined in release 1.0.0\n",
      "\n"
     ]
    }
   ],
   "source": [
    "dem_ref = {\n",
    "    'II_rt7': {2019: 0.396},\n",
    "    'ID_AllTaxes_c': {2019: [20000, 20000, 10000, 20000, 20000],\n",
    "                      2020: [9e99, 9e99, 9e99, 9e99, 9e99]}\n",
    "#     'ID_AllTaxes_c-indexed': {2019: True}\n",
    "}\n",
    "\n",
    "baseline = b.create_table()\n",
    "repeal = b.create_table(reform_file='../TCJA_repeal.json')\n",
    "dem = b.create_table(reform_file=dem_ref)"
   ]
  },
  {
   "cell_type": "code",
   "execution_count": 6,
   "metadata": {},
   "outputs": [],
   "source": [
    "final_df = pd.DataFrame()\n",
    "final_df['ID'] = baseline['ID']\n",
    "final_df['state'] = taxsim_in['state']\n",
    "final_df['mstat'] = taxsim_in['mstat']\n",
    "final_df['deps'] = taxsim_in['depx']\n",
    "final_df['wages'] = baseline['Wages']\n",
    "final_df['siitax'] = taxsim_out['siitax']\n",
    "final_df['other_salt'] = taxsim_in['proptax']\n",
    "final_df['non_salt'] = taxsim_in['mortgage']\n",
    "final_df['fiitax_base'] = baseline['Individual Income Tax']\n",
    "final_df['fiitax_repeal'] = repeal['Individual Income Tax']\n",
    "final_df['fiitax_dem'] = dem['Individual Income Tax']\n",
    "final_df.to_csv('cruncher_output.csv')"
   ]
  },
  {
   "cell_type": "code",
   "execution_count": null,
   "metadata": {},
   "outputs": [],
   "source": []
  }
 ],
 "metadata": {
  "kernelspec": {
   "display_name": "Python 3",
   "language": "python",
   "name": "python3"
  },
  "language_info": {
   "codemirror_mode": {
    "name": "ipython",
    "version": 3
   },
   "file_extension": ".py",
   "mimetype": "text/x-python",
   "name": "python",
   "nbconvert_exporter": "python",
   "pygments_lexer": "ipython3",
   "version": "3.7.3"
  }
 },
 "nbformat": 4,
 "nbformat_minor": 2
}
